{
 "cells": [
  {
   "cell_type": "code",
   "execution_count": 3,
   "id": "339ebb52-e134-4d96-98dd-251a2f159f15",
   "metadata": {},
   "outputs": [],
   "source": [
    "                   Assignment-13_feb(exception handling part->2)\n",
    "Q1.explain why we have to use the exception class while creating a custom Exception?\n",
    "Ans->You are creating your own list data type in Python that only stores integer. In such cases,\n",
    "     it is better to define a custom Exception class that provides a better understanding of the \n",
    "    errors that users can understand and relate.Using built-in exception classes may not be very \n",
    "     useful in such scenarios."
   ]
  },
  {
   "cell_type": "code",
   "execution_count": null,
   "id": "0deda441-dd67-47c3-8b95-7ebd535ab280",
   "metadata": {},
   "outputs": [],
   "source": [
    "Q2.write a python program to print python Exception Hierarchy?\n",
    "Ans->\n",
    "     # import inspect module\n",
    "import inspect\n",
    "\n",
    "# our treeClass function\n",
    "def treeClass(cls, ind = 0):\n",
    "\t\n",
    "\t# print name of the class\n",
    "\tprint ('-' * ind, cls.__name__)\n",
    "\t\n",
    "\t# iterating through subclasses\n",
    "\tfor i in cls.__subclasses__():\n",
    "\t\ttreeClass(i, ind + 3)\n",
    "\n",
    "print(\"Hierarchy for Built-in exceptions is : \")\n",
    "\n",
    "# inspect.getmro() Return a tuple\n",
    "# of class cls’s base classes.\n",
    "\n",
    "# building a tree hierarchy\n",
    "inspect.getclasstree(inspect.getmro(BaseException))\n",
    "\n",
    "# function call\n",
    "treeClass(BaseException)\n"
   ]
  },
  {
   "cell_type": "code",
   "execution_count": null,
   "id": "279fb45b-6e48-4763-a470-eae5465a8e1a",
   "metadata": {},
   "outputs": [],
   "source": [
    "Q3.what error are defined in ArithmeticError class?explain any two with an example\n",
    "ans->ArithmeticError is simply an error that occurs during numeric calculations.\n",
    "      ArithmeticError types in Python include:\n",
    "        1.OverFlowError\n",
    "        2.ZeroDivisionError\n",
    "        3.FloatingPointError\n",
    "eg.1.import math\n",
    "try:\n",
    "    math.exp(1000)\n",
    "except ArithmeticError as e:\n",
    "    print(e)\n",
    "        \n",
    "eg2.try:\n",
    "    a=70\n",
    "    a/0\n",
    "except ArithmeticError as e:\n",
    "    print(e)\n",
    "\n"
   ]
  },
  {
   "cell_type": "code",
   "execution_count": null,
   "id": "fd9aa72d-778b-4513-89a6-19672f026da9",
   "metadata": {},
   "outputs": [],
   "source": [
    "Q4.why lookupError class is used?explain with example KeyError and IndexError\n",
    "ans->LookupError Exception is the Base class for errors raised when something can’t be found. \n",
    "     1.indexError\n",
    "eg.try:\n",
    "    l=[1,2,3,4,5]\n",
    "    l[8]\n",
    "except IndexError as e:\n",
    "    print(e)\n",
    "    \n",
    "    2.KeyError\n",
    "eg.try:\n",
    "    d={\"key1\":1,\"key2\":2}\n",
    "    print(d[\"key3\"])\n",
    "except KeyError as e:\n",
    "    print(e)"
   ]
  },
  {
   "cell_type": "code",
   "execution_count": null,
   "id": "7a8e3974-9de7-4941-b14c-a7c6fee7b248",
   "metadata": {},
   "outputs": [],
   "source": [
    "Q5.Explain importError.what is ModuleNotFoundError?\n",
    "ans->Python's ImportError ( ModuleNotFoundError ) indicates that you tried to import a\n",
    "     module that Python doesn't find. It can usually be eliminated by adding a file\n",
    "      named __init__.py to the directory \n",
    "eg.try:\n",
    "    import aman\n",
    "except (ImportError,ModuleNotFoundError) as e:\n",
    "    print(e)"
   ]
  },
  {
   "cell_type": "code",
   "execution_count": null,
   "id": "81e4f122-694b-4e64-8bf3-a23ad5a57fcd",
   "metadata": {},
   "outputs": [],
   "source": [
    "Q6.list down some best practise for exception handaling in python?\n",
    "ans->1.always use specific exception\n",
    "     2.print always a proper message\n",
    "     3.always try to print your data using of logging level\n",
    "    4.avoid multiple exception handling\n",
    "    5.write errorr in proper meaning\n",
    "    6.cleanup all resources"
   ]
  },
  {
   "cell_type": "code",
   "execution_count": null,
   "id": "c0037b08-2edd-43ca-94b5-576937a8b6a3",
   "metadata": {},
   "outputs": [],
   "source": []
  }
 ],
 "metadata": {
  "kernelspec": {
   "display_name": "Python 3 (ipykernel)",
   "language": "python",
   "name": "python3"
  },
  "language_info": {
   "codemirror_mode": {
    "name": "ipython",
    "version": 3
   },
   "file_extension": ".py",
   "mimetype": "text/x-python",
   "name": "python",
   "nbconvert_exporter": "python",
   "pygments_lexer": "ipython3",
   "version": "3.10.8"
  }
 },
 "nbformat": 4,
 "nbformat_minor": 5
}
